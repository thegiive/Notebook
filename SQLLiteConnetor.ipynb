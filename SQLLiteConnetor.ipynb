{
 "cells": [
  {
   "cell_type": "code",
   "execution_count": 1,
   "metadata": {},
   "outputs": [],
   "source": [
    "import sqlite3\n",
    "# create a connection to a database : create the database if not available\n",
    "connection = sqlite3.connect(\"classroomDB.db\")\n",
    "connection.close()"
   ]
  },
  {
   "cell_type": "code",
   "execution_count": 2,
   "metadata": {},
   "outputs": [],
   "source": [
    "# open connection\n",
    "connection = sqlite3.connect(\"classroomDB.db\")\n",
    "# open cursor\n",
    "cursor = connection.cursor()\n",
    "# query for creating table\n",
    "create_table = \"\"\"\n",
    "                CREATE TABLE classroom ( \n",
    "                student_id INTEGER PRIMARY KEY, \n",
    "                name VARCHAR(20), \n",
    "                gender CHAR(1), \n",
    "                physics_marks INTEGER,\n",
    "                chemistry_marks INTEGER,\n",
    "                mathematics_marks INTEGER\n",
    "              );\"\"\"\n",
    "# execute query\n",
    "cursor.execute(create_table)\n",
    "# commit changes\n",
    "connection.commit()\n",
    "# close connection\n",
    "connection.close()"
   ]
  },
  {
   "cell_type": "code",
   "execution_count": 3,
   "metadata": {},
   "outputs": [],
   "source": [
    "# sample data\n",
    "classroom_data = [( 1, \"Raj\",\"M\", 70, 84, 92),\n",
    "                  ( 2, \"Poonam\",\"F\", 87, 69, 93),\n",
    "                  ( 3, \"Nik\",\"M\", 65, 83, 90),\n",
    "                  ( 4, \"Rahul\",\"F\", 83, 76, 89)]\n",
    "# open connection\n",
    "connection = sqlite3.connect(\"classroomDB.db\")\n",
    "# open cursor\n",
    "cursor = connection.cursor()\n",
    "# insert each student record\n",
    "for student in classroom_data:\n",
    "    # formatted query string\n",
    "    insert_statement = \"\"\"INSERT INTO classroom \n",
    "                      (student_id, name, gender, physics_marks, chemistry_marks, mathematics_marks)\n",
    "                      VALUES \n",
    "                      ({0}, \"{1}\", \"{2}\", {3}, {4}, {5});\"\"\".format(student[0], student[1], student[2], \n",
    "                                                              student[3],student[4], student[5])\n",
    "    # execute insert query\n",
    "    cursor.execute(insert_statement)\n",
    "\n",
    "# commit the changes\n",
    "connection.commit()\n",
    "# close the connection\n",
    "connection.close()"
   ]
  },
  {
   "cell_type": "code",
   "execution_count": 4,
   "metadata": {},
   "outputs": [
    {
     "name": "stdout",
     "output_type": "stream",
     "text": [
      "(1, 'Raj', 'M', 70, 84, 92)\n",
      "(2, 'Poonam', 'F', 87, 69, 93)\n",
      "(3, 'Nik', 'M', 65, 83, 90)\n",
      "(4, 'Rahul', 'F', 83, 76, 89)\n"
     ]
    }
   ],
   "source": [
    "# open connection\n",
    "connection = sqlite3.connect(\"classroomDB.db\")\n",
    "# open cursor\n",
    "cursor = connection.cursor()\n",
    "# query\n",
    "query = \"SELECT * FROM classroom\"\n",
    "# execute query\n",
    "cursor.execute(query) \n",
    "# fetch results\n",
    "result = cursor.fetchall() \n",
    "# print results\n",
    "for row in result:\n",
    "    print(row)\n",
    "# close connection\n",
    "connection.close()"
   ]
  },
  {
   "cell_type": "code",
   "execution_count": null,
   "metadata": {},
   "outputs": [],
   "source": []
  }
 ],
 "metadata": {
  "kernelspec": {
   "display_name": "Python 3",
   "language": "python",
   "name": "python3"
  },
  "language_info": {
   "codemirror_mode": {
    "name": "ipython",
    "version": 3
   },
   "file_extension": ".py",
   "mimetype": "text/x-python",
   "name": "python",
   "nbconvert_exporter": "python",
   "pygments_lexer": "ipython3",
   "version": "3.6.4"
  }
 },
 "nbformat": 4,
 "nbformat_minor": 2
}
