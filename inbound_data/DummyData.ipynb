{
 "cells": [
  {
   "cell_type": "code",
   "execution_count": 1,
   "metadata": {},
   "outputs": [
    {
     "data": {
      "text/html": [
       "\n",
       "        <div>\n",
       "            <p><b>SparkContext</b></p>\n",
       "\n",
       "            <p><a href=\"http://192.168.1.3:4040\">Spark UI</a></p>\n",
       "\n",
       "            <dl>\n",
       "              <dt>Version</dt>\n",
       "                <dd><code>v2.2.0</code></dd>\n",
       "              <dt>Master</dt>\n",
       "                <dd><code>local[*]</code></dd>\n",
       "              <dt>AppName</dt>\n",
       "                <dd><code>PySparkShell</code></dd>\n",
       "            </dl>\n",
       "        </div>\n",
       "        "
      ],
      "text/plain": [
       "<SparkContext master=local[*] appName=PySparkShell>"
      ]
     },
     "execution_count": 1,
     "metadata": {},
     "output_type": "execute_result"
    }
   ],
   "source": [
    "sc"
   ]
  },
  {
   "cell_type": "code",
   "execution_count": 37,
   "metadata": {},
   "outputs": [
    {
     "data": {
      "text/plain": [
       "571"
      ]
     },
     "execution_count": 37,
     "metadata": {},
     "output_type": "execute_result"
    }
   ],
   "source": [
    "df = spark.read.load(\"flight_data/Flight_B6833_(10a2028c).csv\",\n",
    "                     format=\"csv\", sep=\",\", inferSchema=\"true\", header=\"true\")\n",
    "df.count()"
   ]
  },
  {
   "cell_type": "code",
   "execution_count": 38,
   "metadata": {},
   "outputs": [
    {
     "data": {
      "text/plain": [
       "5191"
      ]
     },
     "execution_count": 38,
     "metadata": {},
     "output_type": "execute_result"
    }
   ],
   "source": [
    "df = spark.read.load(\"flight_data/\",\n",
    "                     format=\"csv\", sep=\",\", inferSchema=\"true\", header=\"true\")\n",
    "df.count()"
   ]
  },
  {
   "cell_type": "code",
   "execution_count": 39,
   "metadata": {},
   "outputs": [
    {
     "name": "stdout",
     "output_type": "stream",
     "text": [
      "+----------+-------------------+--------+------------------+--------+-----+---------+\n",
      "| Timestamp|                UTC|Callsign|          Position|Altitude|Speed|Direction|\n",
      "+----------+-------------------+--------+------------------+--------+-----+---------+\n",
      "|1519549288|2018-02-25 17:01:28|  DLH454| 50.04705,8.561494|       0|    0|       25|\n",
      "|1519549905|2018-02-25 17:11:45|  DLH454|50.046856,8.561458|       0|    0|      206|\n",
      "|1519550012|2018-02-25 17:13:32|  DLH454| 50.046867,8.56153|       0|    0|      162|\n",
      "|1519552377|2018-02-25 17:52:57|  DLH454| 50.047073,8.56144|       0|    0|      119|\n",
      "|1519552708|2018-02-25 17:58:28|  DLH454|50.046844,8.561584|       0|   12|      331|\n",
      "|1519552729|2018-02-25 17:58:49|  DLH454|50.046509,8.561728|       0|   12|      300|\n",
      "|1519552746|2018-02-25 17:59:06|  DLH454|50.046284,8.562017|       0|   11|      261|\n",
      "|1519552753|2018-02-25 17:59:13|  DLH454|50.046272,8.562235|       0|   12|      255|\n",
      "|1519552761|2018-02-25 17:59:21|  DLH454|50.046299,8.562469|       0|   12|      247|\n",
      "|1519552774|2018-02-25 17:59:34|  DLH454|50.046387,8.562758|       0|   13|      250|\n",
      "|1519552780|2018-02-25 17:59:40|  DLH454|50.046444,8.562993|       0|   13|      250|\n",
      "|1519552789|2018-02-25 17:59:49|  DLH454|50.046494,8.563231|       0|   12|      250|\n",
      "|1519552801|2018-02-25 18:00:01|  DLH454| 50.04657,8.563518|       0|   10|      250|\n",
      "|1519552849|2018-02-25 18:00:49|  DLH454| 50.046593,8.56359|       0|    0|       62|\n",
      "|1519553191|2018-02-25 18:06:31|  DLH454|50.046509,8.563379|       0|    2|      250|\n",
      "|1519553209|2018-02-25 18:06:49|  DLH454|50.046448,8.563138|       0|    9|      250|\n",
      "|1519553236|2018-02-25 18:07:16|  DLH454|50.046368,8.562803|       0|    2|      250|\n",
      "|1519553263|2018-02-25 18:07:43|  DLH454|50.046261,8.562377|       0|    9|      250|\n",
      "|1519553278|2018-02-25 18:07:58|  DLH454|50.046204,8.562144|       0|   11|      250|\n",
      "|1519553293|2018-02-25 18:08:13|  DLH454|50.046089,8.561653|       0|   15|      250|\n",
      "+----------+-------------------+--------+------------------+--------+-----+---------+\n",
      "only showing top 20 rows\n",
      "\n"
     ]
    }
   ],
   "source": [
    "df.show()"
   ]
  },
  {
   "cell_type": "code",
   "execution_count": 40,
   "metadata": {},
   "outputs": [],
   "source": [
    "from pyspark.sql.functions import split\n",
    "new_df = df.select(df.UTC.alias(\"time\"),df.Callsign.alias(\"flight_no\"),split(df.Position, ',')[0].alias(\"lat\"),split(df.Position, ',')[1].alias(\"lon\"))"
   ]
  },
  {
   "cell_type": "code",
   "execution_count": 41,
   "metadata": {},
   "outputs": [
    {
     "name": "stdout",
     "output_type": "stream",
     "text": [
      "+-------------------+---------+---------+--------+\n",
      "|               time|flight_no|      lat|     lon|\n",
      "+-------------------+---------+---------+--------+\n",
      "|2018-02-25 17:01:28|   DLH454| 50.04705|8.561494|\n",
      "|2018-02-25 17:11:45|   DLH454|50.046856|8.561458|\n",
      "|2018-02-25 17:13:32|   DLH454|50.046867| 8.56153|\n",
      "|2018-02-25 17:52:57|   DLH454|50.047073| 8.56144|\n",
      "|2018-02-25 17:58:28|   DLH454|50.046844|8.561584|\n",
      "|2018-02-25 17:58:49|   DLH454|50.046509|8.561728|\n",
      "|2018-02-25 17:59:06|   DLH454|50.046284|8.562017|\n",
      "|2018-02-25 17:59:13|   DLH454|50.046272|8.562235|\n",
      "|2018-02-25 17:59:21|   DLH454|50.046299|8.562469|\n",
      "|2018-02-25 17:59:34|   DLH454|50.046387|8.562758|\n",
      "|2018-02-25 17:59:40|   DLH454|50.046444|8.562993|\n",
      "|2018-02-25 17:59:49|   DLH454|50.046494|8.563231|\n",
      "|2018-02-25 18:00:01|   DLH454| 50.04657|8.563518|\n",
      "|2018-02-25 18:00:49|   DLH454|50.046593| 8.56359|\n",
      "|2018-02-25 18:06:31|   DLH454|50.046509|8.563379|\n",
      "|2018-02-25 18:06:49|   DLH454|50.046448|8.563138|\n",
      "|2018-02-25 18:07:16|   DLH454|50.046368|8.562803|\n",
      "|2018-02-25 18:07:43|   DLH454|50.046261|8.562377|\n",
      "|2018-02-25 18:07:58|   DLH454|50.046204|8.562144|\n",
      "|2018-02-25 18:08:13|   DLH454|50.046089|8.561653|\n",
      "+-------------------+---------+---------+--------+\n",
      "only showing top 20 rows\n",
      "\n"
     ]
    }
   ],
   "source": [
    "new_df.show()"
   ]
  },
  {
   "cell_type": "code",
   "execution_count": 45,
   "metadata": {},
   "outputs": [],
   "source": [
    "new_df.write.mode('overwrite').save(\"flight.json\",  format=\"json\")"
   ]
  },
  {
   "cell_type": "code",
   "execution_count": null,
   "metadata": {},
   "outputs": [],
   "source": []
  }
 ],
 "metadata": {
  "kernelspec": {
   "display_name": "Python 3",
   "language": "python",
   "name": "python3"
  },
  "language_info": {
   "codemirror_mode": {
    "name": "ipython",
    "version": 3
   },
   "file_extension": ".py",
   "mimetype": "text/x-python",
   "name": "python",
   "nbconvert_exporter": "python",
   "pygments_lexer": "ipython3",
   "version": "3.6.4"
  }
 },
 "nbformat": 4,
 "nbformat_minor": 2
}
